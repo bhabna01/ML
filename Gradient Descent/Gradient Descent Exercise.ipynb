{
 "cells": [
  {
   "cell_type": "code",
   "execution_count": 2,
   "id": "03168ec9",
   "metadata": {},
   "outputs": [],
   "source": [
    "import pandas as pd\n",
    "import numpy as np\n",
    "from sklearn.linear_model import LinearRegression\n",
    "import math"
   ]
  },
  {
   "cell_type": "code",
   "execution_count": 3,
   "id": "8af27a66",
   "metadata": {},
   "outputs": [],
   "source": [
    "def predict_using_sklearn():\n",
    "    df=pd.read_csv(\"test_scores.csv\")\n",
    "    r=LinearRegression()\n",
    "    r.fit(df[['math']],df['cs'])\n",
    "    return r.coef_,r.intercept_\n",
    "\n",
    "    "
   ]
  },
  {
   "cell_type": "code",
   "execution_count": 7,
   "id": "befe65e9",
   "metadata": {},
   "outputs": [],
   "source": [
    "def gradient_descent(x,y):\n",
    "    m_curr=0\n",
    "    b_curr=0\n",
    "    iterations=1000000\n",
    "    n=len(x)\n",
    "    learning_rate=0.0002\n",
    "    cost_previous=0\n",
    "    for i in range(iterations):\n",
    "        y_predicted=m_curr*x+b_curr\n",
    "        cost=(1/n)*sum([value**2 for value in (y-y_predicted)])\n",
    "        md=-(2/n)*sum(x*(y-y_predicted))\n",
    "        bd=-(2/n)*sum((y-y_predicted))\n",
    "        m_curr=m_curr-learning_rate*md\n",
    "        b_curr=b_curr-learning_rate*bd\n",
    "        if math.isclose(cost,cost_previous,rel_tol=1e-20):\n",
    "            break\n",
    "        cost_previous=cost\n",
    "        print(\"m {},b {},cost {},iteration {}\".format(m_curr,b_curr,cost,i))\n",
    "    return m_curr,b_curr"
   ]
  },
  {
   "cell_type": "code",
   "execution_count": null,
   "id": "224865ba",
   "metadata": {},
   "outputs": [],
   "source": []
  },
  {
   "cell_type": "code",
   "execution_count": 6,
   "id": "fcbbe660",
   "metadata": {},
   "outputs": [
    {
     "ename": "TypeError",
     "evalue": "'rel_to' is an invalid keyword argument for isclose()",
     "output_type": "error",
     "traceback": [
      "\u001b[1;31m---------------------------------------------------------------------------\u001b[0m",
      "\u001b[1;31mTypeError\u001b[0m                                 Traceback (most recent call last)",
      "Cell \u001b[1;32mIn[6], line 4\u001b[0m\n\u001b[0;32m      2\u001b[0m x\u001b[38;5;241m=\u001b[39mnp\u001b[38;5;241m.\u001b[39marray(df[\u001b[38;5;124m'\u001b[39m\u001b[38;5;124mmath\u001b[39m\u001b[38;5;124m'\u001b[39m])\n\u001b[0;32m      3\u001b[0m y\u001b[38;5;241m=\u001b[39mnp\u001b[38;5;241m.\u001b[39marray(df[\u001b[38;5;124m'\u001b[39m\u001b[38;5;124mcs\u001b[39m\u001b[38;5;124m'\u001b[39m])\n\u001b[1;32m----> 4\u001b[0m m,b\u001b[38;5;241m=\u001b[39m\u001b[43mgradient_descent\u001b[49m\u001b[43m(\u001b[49m\u001b[43mx\u001b[49m\u001b[43m,\u001b[49m\u001b[43my\u001b[49m\u001b[43m)\u001b[49m\n\u001b[0;32m      5\u001b[0m \u001b[38;5;28mprint\u001b[39m(\u001b[38;5;124m\"\u001b[39m\u001b[38;5;124mUsing gradient descent function: COef \u001b[39m\u001b[38;5;132;01m{}\u001b[39;00m\u001b[38;5;124m Intercept \u001b[39m\u001b[38;5;132;01m{}\u001b[39;00m\u001b[38;5;124m\"\u001b[39m\u001b[38;5;241m.\u001b[39mformat(m,b))\n\u001b[0;32m      6\u001b[0m m_sklearn,b_sklearn \u001b[38;5;241m=\u001b[39mpredict_using_sklearn()\n",
      "Cell \u001b[1;32mIn[4], line 15\u001b[0m, in \u001b[0;36mgradient_descent\u001b[1;34m(x, y)\u001b[0m\n\u001b[0;32m     13\u001b[0m m_curr\u001b[38;5;241m=\u001b[39mm_curr\u001b[38;5;241m-\u001b[39mlearning_rate\u001b[38;5;241m*\u001b[39mmd\n\u001b[0;32m     14\u001b[0m b_curr\u001b[38;5;241m=\u001b[39mb_curr\u001b[38;5;241m-\u001b[39mlearning_rate\u001b[38;5;241m*\u001b[39mbd\n\u001b[1;32m---> 15\u001b[0m \u001b[38;5;28;01mif\u001b[39;00m \u001b[43mmath\u001b[49m\u001b[38;5;241;43m.\u001b[39;49m\u001b[43misclose\u001b[49m\u001b[43m(\u001b[49m\u001b[43mcost\u001b[49m\u001b[43m,\u001b[49m\u001b[43mcost_previous\u001b[49m\u001b[43m,\u001b[49m\u001b[43mrel_to\u001b[49m\u001b[38;5;241;43m=\u001b[39;49m\u001b[38;5;241;43m1e-20\u001b[39;49m\u001b[43m)\u001b[49m:\n\u001b[0;32m     16\u001b[0m     \u001b[38;5;28;01mbreak\u001b[39;00m\n\u001b[0;32m     17\u001b[0m cost_previous\u001b[38;5;241m=\u001b[39mcost\n",
      "\u001b[1;31mTypeError\u001b[0m: 'rel_to' is an invalid keyword argument for isclose()"
     ]
    }
   ],
   "source": [
    "df=pd.read_csv(\"test_scores.csv\")\n",
    "x=np.array(df['math'])\n",
    "y=np.array(df['cs'])\n",
    "m,b=gradient_descent(x,y)\n",
    "print(\"Using gradient descent function: COef {} Intercept {}\".format(m,b))\n",
    "m_sklearn,b_sklearn =predict_using_sklearn()\n",
    "print(\"Using sklearn: Coef {} Intercept {}\".format(m_sklearn,b_sklearn))"
   ]
  },
  {
   "cell_type": "code",
   "execution_count": null,
   "id": "59e90b00",
   "metadata": {},
   "outputs": [],
   "source": []
  },
  {
   "cell_type": "code",
   "execution_count": null,
   "id": "5a485d6c",
   "metadata": {},
   "outputs": [],
   "source": []
  }
 ],
 "metadata": {
  "kernelspec": {
   "display_name": "Python 3 (ipykernel)",
   "language": "python",
   "name": "python3"
  },
  "language_info": {
   "codemirror_mode": {
    "name": "ipython",
    "version": 3
   },
   "file_extension": ".py",
   "mimetype": "text/x-python",
   "name": "python",
   "nbconvert_exporter": "python",
   "pygments_lexer": "ipython3",
   "version": "3.10.9"
  }
 },
 "nbformat": 4,
 "nbformat_minor": 5
}
